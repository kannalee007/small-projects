{
 "cells": [
  {
   "cell_type": "code",
   "execution_count": 16,
   "id": "e20a9419-d24e-4755-aef0-b1c1cfb50f7e",
   "metadata": {},
   "outputs": [
    {
     "name": "stdin",
     "output_type": "stream",
     "text": [
      "How can I help you?  Please convert 292\n"
     ]
    },
    {
     "name": "stdout",
     "output_type": "stream",
     "text": [
      "Sure! It is CCXCII\n"
     ]
    }
   ],
   "source": [
    "def int_to_roman(number):\n",
    "    val = [1000, 900, 500, 400, 100, 90, 50, 40, 10, 9, 5, 4, 1]\n",
    "    syms = [\"M\", \"CM\", \"D\", \"CD\", \"C\", \"XC\", \"L\", \"XL\", \"X\", \"IX\", \"V\", \"IV\", \"I\"]\n",
    "    roman = \"\"\n",
    "    i = 0\n",
    "    while number > 0:\n",
    "        for _ in range(number // val[i]):\n",
    "            roman += syms[i]\n",
    "            number -= val[i]\n",
    "        i += 1\n",
    "    return roman\n",
    "\n",
    "def roman_to_int(roman):\n",
    "    roman_map = {'I': 1, 'V': 5, 'X': 10, 'L': 50, 'C': 100, 'D': 500, 'M': 1000}\n",
    "    total = 0\n",
    "    prev = 0\n",
    "    for char in reversed(roman):\n",
    "        value = roman_map[char]\n",
    "        if value < prev:\n",
    "            total -= value\n",
    "        else:\n",
    "            total += value\n",
    "            prev = value\n",
    "    return total\n",
    "\n",
    "def is_valid_roman(roman):\n",
    "    valid = set(\"IVXLCDM\")\n",
    "    return all(c in valid for c in roman)\n",
    "\n",
    "def main():\n",
    "    user_input = input(\"How can I help you? \")\n",
    "    if user_input.lower().startswith(\"please convert \"):\n",
    "        value = user_input[len(\"please convert \"):].strip()\n",
    "\n",
    "        if value.isdigit():\n",
    "            number = int(value)\n",
    "            if str(number).startswith(\"0\") or number > 3999:\n",
    "                print(\"Hey, ask me something that's not impossible to do!\")\n",
    "            else:\n",
    "                print(\"Sure! It is\", int_to_roman(number))\n",
    "\n",
    "        elif is_valid_roman(value.upper()):\n",
    "            print(\"Sure! It is\", roman_to_int(value.upper()))\n",
    "\n",
    "        else:\n",
    "            print(\"Hey, ask me something that's not impossible to do!\")\n",
    "    else:\n",
    "        print(\"I don't get what you want, sorry mate!\")\n",
    "\n",
    "if __name__ == \"__main__\":\n",
    "    main()"
   ]
  },
  {
   "cell_type": "code",
   "execution_count": null,
   "id": "ebd56ac4-c850-4501-84e8-77f0b94c424e",
   "metadata": {},
   "outputs": [],
   "source": []
  }
 ],
 "metadata": {
  "kernelspec": {
   "display_name": "Python 3 (ipykernel)",
   "language": "python",
   "name": "python3"
  },
  "language_info": {
   "codemirror_mode": {
    "name": "ipython",
    "version": 3
   },
   "file_extension": ".py",
   "mimetype": "text/x-python",
   "name": "python",
   "nbconvert_exporter": "python",
   "pygments_lexer": "ipython3",
   "version": "3.13.5"
  }
 },
 "nbformat": 4,
 "nbformat_minor": 5
}
