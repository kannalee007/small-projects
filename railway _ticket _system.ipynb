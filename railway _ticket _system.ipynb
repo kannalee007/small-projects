{
 "cells": [
  {
   "cell_type": "code",
   "execution_count": null,
   "id": "5d8ed7be-5148-4335-bdfb-e45a0af8c9c6",
   "metadata": {},
   "outputs": [
    {
     "name": "stdout",
     "output_type": "stream",
     "text": [
      "--------Railway system managment----------\n",
      "1 -> train timings\n",
      "2 -> train fare details\n",
      "3 -> seat availability\n",
      "4 -> platform number\n",
      "5 -> exit\n"
     ]
    }
   ],
   "source": [
    "def railway_tickets():\n",
    "    print(\"--------Railway system managment----------\")\n",
    "    print(\"1 -> train timings\")\n",
    "    print(\"2 -> train fare details\")\n",
    "    print(\"3 -> seat availability\")\n",
    "    print(\"4 -> platform number\")\n",
    "    print(\"5 -> exit\")\n",
    "    try:\n",
    "        choice = int(input(\"please provide the number you are trying to find\"))\n",
    "        if choice == 1:\n",
    "            print(\"Train departs at 10:30 AM and arrives at 5:00 PM.\")\n",
    "        elif choice == 2:\n",
    "            seat = int(input(\"please provide your age:\"))\n",
    "            if seat <=18:\n",
    "                print(\"your fare will be 100/-, as you are a kid\")\n",
    "            elif seat >18 and seat <=60:\n",
    "                print(\"your fare will be 200/-, as you are adult\")\n",
    "            elif seat >=61:\n",
    "                print(\"your fare will be 150/-, as you are senior citizen\")\n",
    "        elif choice == 3:\n",
    "             print(\"there are seats available in economy class which have 100 seats, and in first class there are 43 seats left\")\n",
    "        elif choice == 4:\n",
    "             print(\"the train is about to come at the 4th platform\")\n",
    "        elif choice == 5:\n",
    "             print(\"thank you, have a nice day!\")\n",
    "    except ValueError:\n",
    "        print(\"invalid\")\n",
    "if __name__ == \"__main__\":\n",
    "    railway_tickets()"
   ]
  },
  {
   "cell_type": "code",
   "execution_count": null,
   "id": "f6096c18-ee49-498a-a745-7479853c8ee5",
   "metadata": {},
   "outputs": [],
   "source": []
  }
 ],
 "metadata": {
  "kernelspec": {
   "display_name": "Python 3 (ipykernel)",
   "language": "python",
   "name": "python3"
  },
  "language_info": {
   "codemirror_mode": {
    "name": "ipython",
    "version": 3
   },
   "file_extension": ".py",
   "mimetype": "text/x-python",
   "name": "python",
   "nbconvert_exporter": "python",
   "pygments_lexer": "ipython3",
   "version": "3.13.5"
  }
 },
 "nbformat": 4,
 "nbformat_minor": 5
}
