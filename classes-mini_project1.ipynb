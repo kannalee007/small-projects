{
 "cells": [
  {
   "cell_type": "code",
   "execution_count": 42,
   "id": "b6b997ee-2003-4223-ba1f-d3beed37bbe7",
   "metadata": {},
   "outputs": [
    {
     "name": "stdout",
     "output_type": "stream",
     "text": [
      "True\n",
      "False\n",
      "This is a bike from Yamaha (2022) with a Flat handlebar.\n",
      "This is a car from Toyota (2020) with 4 doors.\n",
      "True\n",
      "False\n"
     ]
    }
   ],
   "source": [
    "class Vehicle:\n",
    "    def __init__(self, brand, year,price):\n",
    "        self.brand = brand\n",
    "        self.year = year\n",
    "        self.price = price\n",
    "\n",
    "    def is_newer_than(self, other_vehicle):\n",
    "        return self.year > other_vehicle.year\n",
    "\n",
    "    def describe(self):\n",
    "        print(f\"This is a vehicle made by {self.brand} in {self.year}.\")\n",
    "        \n",
    "    def is_more_expensive(self,price_vehicle):\n",
    "        return self.price > price_vehicle.price\n",
    "\n",
    "class Car(Vehicle):\n",
    "    def __init__(self, brand, year, doors, price):\n",
    "        super().__init__(brand, year,price)\n",
    "        self.doors = doors\n",
    "\n",
    "    def describe(self):\n",
    "        print(f\"This is a car from {self.brand} ({self.year}) with {self.doors} doors.\")\n",
    "        \n",
    "\n",
    "class Bike(Vehicle):\n",
    "    def __init__(self, brand, year, type_handle_bar,price):\n",
    "        super().__init__(brand, year,price)\n",
    "        self.type_handle_bar = type_handle_bar\n",
    "\n",
    "    def describe(self):\n",
    "        print(f\"This is a bike from {self.brand} ({self.year}) with a {self.type_handle_bar} handlebar.\")\n",
    "\n",
    "c1 = Car(\"Toyota\", 2020, 4, 21221212)\n",
    "b1 = Bike(\"Yamaha\", 2022, \"Flat\", 21122)\n",
    "\n",
    "print(b1.is_newer_than(c1)) \n",
    "print(c1.is_newer_than(b1))  \n",
    "\n",
    "b1.describe()\n",
    "c1.describe()\n",
    "\n",
    "\n",
    "print(c1.is_more_expensive(b1))  \n",
    "print(b1.is_more_expensive(c1))  \n",
    "        "
   ]
  },
  {
   "cell_type": "code",
   "execution_count": null,
   "id": "4dbdeadf-ffcb-40c9-aaa1-b47259eb92f6",
   "metadata": {},
   "outputs": [],
   "source": []
  }
 ],
 "metadata": {
  "kernelspec": {
   "display_name": "Python 3 (ipykernel)",
   "language": "python",
   "name": "python3"
  },
  "language_info": {
   "codemirror_mode": {
    "name": "ipython",
    "version": 3
   },
   "file_extension": ".py",
   "mimetype": "text/x-python",
   "name": "python",
   "nbconvert_exporter": "python",
   "pygments_lexer": "ipython3",
   "version": "3.13.5"
  }
 },
 "nbformat": 4,
 "nbformat_minor": 5
}
