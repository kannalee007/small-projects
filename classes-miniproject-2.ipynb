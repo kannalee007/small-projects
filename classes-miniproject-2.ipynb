{
 "cells": [
  {
   "cell_type": "code",
   "execution_count": 35,
   "id": "359dd188-d5d6-4451-a8e8-5aa682ad4990",
   "metadata": {},
   "outputs": [
    {
     "name": "stdout",
     "output_type": "stream",
     "text": [
      "Name of the person is Amit, and the email is amit@example.com, his number plate is DL12345\n",
      "Name of the person is Riya, and the email is riya@example.com, and the payment method is UPI\n",
      "Contacting Amit at amit@example.com\n",
      "Contacting Riya at riya@example.com\n",
      "Amit is a Driver\n",
      "Riya is a Passenger\n"
     ]
    },
    {
     "ename": "NameError",
     "evalue": "name 'assign' is not defined",
     "output_type": "error",
     "traceback": [
      "\u001b[31m---------------------------------------------------------------------------\u001b[39m",
      "\u001b[31mNameError\u001b[39m                                 Traceback (most recent call last)",
      "\u001b[36mCell\u001b[39m\u001b[36m \u001b[39m\u001b[32mIn[35]\u001b[39m\u001b[32m, line 50\u001b[39m\n\u001b[32m     48\u001b[39m \u001b[38;5;28;01mfor\u001b[39;00m user \u001b[38;5;129;01min\u001b[39;00m users:\n\u001b[32m     49\u001b[39m     \u001b[38;5;28mprint\u001b[39m(\u001b[33mf\u001b[39m\u001b[33m\"\u001b[39m\u001b[38;5;132;01m{\u001b[39;00muser.name\u001b[38;5;132;01m}\u001b[39;00m\u001b[33m is a \u001b[39m\u001b[38;5;132;01m{\u001b[39;00muser.get_user_type()\u001b[38;5;132;01m}\u001b[39;00m\u001b[33m\"\u001b[39m)\n\u001b[32m---> \u001b[39m\u001b[32m50\u001b[39m \u001b[43massign\u001b[49m(p1, [d1, d2])\n",
      "\u001b[31mNameError\u001b[39m: name 'assign' is not defined"
     ]
    }
   ],
   "source": [
    "class User:\n",
    "    def __init__(self, name, email):\n",
    "        self.name = name\n",
    "        self.email = email\n",
    "    def show_info(self):\n",
    "        print(f\"Name of the person is {self.name}, and the email is {self.email}\")\n",
    "    def contact(self):\n",
    "        print(f\"Contacting {self.name} at {self.email}\")\n",
    "    def get_user_type(self):\n",
    "        return \"User\"\n",
    "    \n",
    "    \n",
    "class Driver(User):\n",
    "    def __init__(self, name, email, license_number, car_model, assign):\n",
    "        super().__init__(name ,email)\n",
    "        self.license_number = license_number\n",
    "        self.car_model = car_model\n",
    "        self.assign = assign\n",
    "    def show_info(self):\n",
    "        print(f\"Name of the person is {self.name}, and the email is {self.email}, his number plate is {self.license_number}\")\n",
    "    def contact(self):\n",
    "        print(f\"Contacting {self.name} at {self.email}\")\n",
    "    def get_user_type(self):\n",
    "        return \"Driver\"\n",
    "class Passenger(User):\n",
    "    def __init__(self,name ,email, payment_method):\n",
    "        super().__init__(name, email)\n",
    "        self.payment_method = payment_method\n",
    "    def show_info(self):\n",
    "        print(f\"Name of the person is {self.name}, and the email is {self.email}, and the payment method is {self.payment_method}\")\n",
    "    def contact(self):\n",
    "        print(f\"Contacting {self.name} at {self.email}\")\n",
    "    def get_user_type(self):\n",
    "        return \"Passenger\"\n",
    " \n",
    "    def assign(passenger, drivers):\n",
    "        driver = drivers[0]  # Choose the first driver\n",
    "        print(f\"{passenger.name} is assigned to driver {driver.name} in {driver.car_model}\")\n",
    "  \n",
    "d1 = Driver(\"Amit\", \"amit@example.com\", \"DL12345\", \"Honda City\",\"go\")\n",
    "d2 = Driver(\"Sneha\", \"sneha@example.com\", \"MH9876\", \"Hyundai i20\",\"go\")\n",
    "p1 = Passenger(\"Riya\", \"riya@example.com\", \"UPI\",)\n",
    "d1.show_info()\n",
    "p1.show_info()\n",
    "d1.contact()\n",
    "p1.contact()\n",
    "users = [d1, p1]\n",
    "for user in users:\n",
    "    print(f\"{user.name} is a {user.get_user_type()}\")\n",
    "assign(p1, [d1, d2])\n"
   ]
  },
  {
   "cell_type": "code",
   "execution_count": null,
   "id": "b5b6f253-10ec-428a-b3a3-5a83c6457161",
   "metadata": {},
   "outputs": [],
   "source": []
  }
 ],
 "metadata": {
  "kernelspec": {
   "display_name": "Python 3 (ipykernel)",
   "language": "python",
   "name": "python3"
  },
  "language_info": {
   "codemirror_mode": {
    "name": "ipython",
    "version": 3
   },
   "file_extension": ".py",
   "mimetype": "text/x-python",
   "name": "python",
   "nbconvert_exporter": "python",
   "pygments_lexer": "ipython3",
   "version": "3.13.5"
  }
 },
 "nbformat": 4,
 "nbformat_minor": 5
}
