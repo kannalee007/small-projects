{
 "cells": [
  {
   "cell_type": "code",
   "execution_count": 5,
   "id": "ac7cd0b3-6d20-49e9-b9b3-6363280ffa09",
   "metadata": {},
   "outputs": [
    {
     "name": "stdin",
     "output_type": "stream",
     "text": [
      "Enter vehicle type (Car, Bus, or Truck):  Car\n",
      "Enter the number of axles:  4\n"
     ]
    },
    {
     "name": "stdout",
     "output_type": "stream",
     "text": [
      "Adding extra charge of 50 for more than 3 axles.\n",
      "The final toll for the car is: 150\n"
     ]
    }
   ],
   "source": [
    "#toll gate\n",
    "vehicle_type = input(\"Enter vehicle type (Car, Bus, or Truck): \").lower()\n",
    "try:\n",
    "    axles = int(input(\"Enter the number of axles: \"))\n",
    "except ValueError:\n",
    "    print(\"Invalid input for axles. Please enter a number.\")\n",
    "    exit()\n",
    "\n",
    "total_toll = 0\n",
    "\n",
    "if vehicle_type == \"car\":\n",
    "    total_toll = 100\n",
    "elif vehicle_type == \"bus\":\n",
    "    total_toll = 200\n",
    "elif vehicle_type == \"truck\":\n",
    "    total_toll = 300\n",
    "else:\n",
    "    print(\"Sorry, that is an invalid vehicle type.\")\n",
    "    exit()\n",
    "\n",
    "if axles > 3:\n",
    "    print(\"Adding extra charge of 50 for more than 3 axles.\")\n",
    "    total_toll = total_toll += 50 \n",
    "\n",
    "print(f\"The final toll for the {vehicle_type} is: {total_toll}\")"
   ]
  },
  {
   "cell_type": "code",
   "execution_count": 1,
   "id": "839584a1-bf7e-4848-a807-9dd3d95df21f",
   "metadata": {},
   "outputs": [
    {
     "name": "stdin",
     "output_type": "stream",
     "text": [
      "what signal meaning you need?(red, yellow, green): black\n"
     ]
    },
    {
     "name": "stdout",
     "output_type": "stream",
     "text": [
      "sorry that symbol isn't present\n"
     ]
    }
   ],
   "source": [
    "#traffic light\n",
    "traffic_light = input(\"what signal meaning you need?(red, yellow, green):\").upper()\n",
    "if traffic_light ==\"RED\":\n",
    "    print(\"STOP\")\n",
    "elif traffic_light ==\"YELLOW\":\n",
    "    print(\"SLOWLY MOVE\")\n",
    "elif traffic_light == \"GREEN\":\n",
    "    print(\"GO!\")\n",
    "else:  \n",
    "    print(\"sorry that symbol isn't present\")\n",
    "exit()"
   ]
  },
  {
   "cell_type": "code",
   "execution_count": 4,
   "id": "97b4ebd9-fb97-4a6b-877c-7ff71adc8c6d",
   "metadata": {},
   "outputs": [
    {
     "name": "stdin",
     "output_type": "stream",
     "text": [
      "How many units is your bill?:  100\n"
     ]
    },
    {
     "name": "stdout",
     "output_type": "stream",
     "text": [
      "The number of units are 100 and your bill will be 500.\n"
     ]
    }
   ],
   "source": [
    "#electricity bill units\n",
    "\n",
    "try:\n",
    "    units = int(input(\"How many units is your bill?: \"))\n",
    "    \n",
    "    total_bill = 0\n",
    "\n",
    "    if units <= 0:\n",
    "        total_bill = 0\n",
    "    elif units <= 100:\n",
    "   \n",
    "        total_bill = units * 5\n",
    "    elif units <= 200:\n",
    " \n",
    "        total_bill = (100 * 5) + (units - 100) * 7\n",
    "    else:\n",
    "        total_bill = (100 * 5) + (100 * 7) + (units - 200) * 10\n",
    "    print(f\"The number of units are {units} and your bill will be {total_bill}.\")\n",
    "\n",
    "except ValueError:\n",
    "    print(\"Invalid input. Please enter a whole number for the units.\")"
   ]
  },
  {
   "cell_type": "code",
   "execution_count": 4,
   "id": "48df2b81-b45f-4b0c-850d-8ece5d8a2413",
   "metadata": {},
   "outputs": [
    {
     "ename": "IndentationError",
     "evalue": "unindent does not match any outer indentation level (<string>, line 11)",
     "output_type": "error",
     "traceback": [
      "  \u001b[36mFile \u001b[39m\u001b[32m<string>:11\u001b[39m\n\u001b[31m    \u001b[39m\u001b[31mif dep > 0:\u001b[39m\n               ^\n\u001b[31mIndentationError\u001b[39m\u001b[31m:\u001b[39m unindent does not match any outer indentation level\n"
     ]
    }
   ],
   "source": [
    "#banking problem\n",
    "try:\n",
    "    \n",
    "    bank = input(\"welcome what can i do for you:\").lower()\n",
    "\n",
    "    balance = 1000\n",
    "    if bank == \"check balance\":\n",
    "       print(balance)\n",
    "    elif bank == \"deposit\":\n",
    "         dep = int(input(\"how much you have to deposit?:\"))\n",
    "    if dep > 0:\n",
    "    print(\"your balance will be:\",balance + dep)\n",
    "    exit()\n",
    "    if dep < 0:\n",
    "       print(\"invalid number to deposit\")\n",
    "    elif bank == \"withdraw\":\n",
    "         wit = int(input(\"how much you have to withdraw?:\"))\n",
    "         print(\"your balance will be:\", balance - wit)\n",
    "    elif bank == \"exit\":\n",
    "        print(\"thank you,have a nice day!\")\n",
    "\n",
    "except ValueError:\n",
    "    print(\"invalid number\")\n",
    "    \n",
    "\n",
    "    \n",
    "\n"
   ]
  },
  {
   "cell_type": "code",
   "execution_count": null,
   "id": "240268db-d6b7-41b7-a861-3dfbe331254d",
   "metadata": {},
   "outputs": [],
   "source": []
  }
 ],
 "metadata": {
  "kernelspec": {
   "display_name": "Python 3 (ipykernel)",
   "language": "python",
   "name": "python3"
  },
  "language_info": {
   "codemirror_mode": {
    "name": "ipython",
    "version": 3
   },
   "file_extension": ".py",
   "mimetype": "text/x-python",
   "name": "python",
   "nbconvert_exporter": "python",
   "pygments_lexer": "ipython3",
   "version": "3.13.5"
  }
 },
 "nbformat": 4,
 "nbformat_minor": 5
}
