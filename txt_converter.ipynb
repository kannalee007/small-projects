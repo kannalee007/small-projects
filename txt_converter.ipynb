{
 "cells": [
  {
   "cell_type": "code",
   "execution_count": 1,
   "id": "eda2b341-1279-4478-b377-07dbdf823219",
   "metadata": {},
   "outputs": [
    {
     "name": "stdin",
     "output_type": "stream",
     "text": [
      "Please enter some number:  5\n"
     ]
    },
    {
     "name": "stdout",
     "output_type": "stream",
     "text": [
      "Data written to output.txt\n"
     ]
    }
   ],
   "source": [
    "import random\n",
    "import string\n",
    "from datetime import datetime, timedelta\n",
    "\n",
    "def generate_number_block():#we are creating r\n",
    "    return \".\".join(str(random.randint(10000, 99999)) for _ in range(4))\n",
    "\n",
    "def generate_practice_word():\n",
    "    suffix = ''.join(random.choices(string.ascii_letters, k=random.randint(3, 8)))\n",
    "    return \"Practice_\" + suffix\n",
    "\n",
    "def generate_status():\n",
    "    statuses = ['Created', 'InProgress', 'Approved', 'Published', 'Obsoleted']\n",
    "    return random.choice(statuses)\n",
    "\n",
    "def generate_random_date():\n",
    "    start_date = datetime.strptime('01/01/1990', '%d/%m/%Y')\n",
    "    end_date = datetime.strptime('31/12/2025', '%d/%m/%Y')\n",
    "    random_days = random.randint(0, (end_date - start_date).days)\n",
    "    return (start_date + timedelta(days=random_days)).strftime('%d/%m/%Y')\n",
    "\n",
    "def generate_entry():\n",
    "    return f\"{generate_number_block()}|{generate_practice_word()}|{generate_status()}|{generate_random_date()}\"\n",
    "\n",
    "def main():\n",
    "    n = int(input(\"Please enter some number: \"))\n",
    "    with open(\"output.txt\", \"w\") as file:\n",
    "        for _ in range(n):\n",
    "            file.write(generate_entry() + \"\\n\")\n",
    "    print(\"Data written to output.txt\")\n",
    "\n",
    "main()"
   ]
  },
  {
   "cell_type": "code",
   "execution_count": null,
   "id": "5e6e6ab7-19b3-41a3-a174-932810b47ec2",
   "metadata": {},
   "outputs": [],
   "source": []
  }
 ],
 "metadata": {
  "kernelspec": {
   "display_name": "Python 3 (ipykernel)",
   "language": "python",
   "name": "python3"
  },
  "language_info": {
   "codemirror_mode": {
    "name": "ipython",
    "version": 3
   },
   "file_extension": ".py",
   "mimetype": "text/x-python",
   "name": "python",
   "nbconvert_exporter": "python",
   "pygments_lexer": "ipython3",
   "version": "3.13.5"
  }
 },
 "nbformat": 4,
 "nbformat_minor": 5
}
